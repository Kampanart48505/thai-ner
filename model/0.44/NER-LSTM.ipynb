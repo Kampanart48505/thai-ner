{
 "cells": [
  {
   "cell_type": "markdown",
   "metadata": {},
   "source": [
    "# ThaiNER (LSTM)\n",
    "\n",
    "using pytorch\n",
    "\n",
    "from https://github.com/ekapolc/nlp_course/blob/master/PyTorchDemo/pytorch_tute_lstm.ipynb"
   ]
  },
  {
   "cell_type": "markdown",
   "metadata": {},
   "source": [
    "## Load Data"
   ]
  },
  {
   "cell_type": "code",
   "execution_count": 1,
   "metadata": {},
   "outputs": [],
   "source": [
    "import dill\n",
    "with open('datatrain.data', 'rb') as file:\n",
    " datatofile = dill.load(file)"
   ]
  },
  {
   "cell_type": "code",
   "execution_count": 2,
   "metadata": {},
   "outputs": [
    {
     "data": {
      "text/plain": [
       "[('สงสัย', 'NCMN', 'O'),\n",
       " ('ติด', 'VACT', 'O'),\n",
       " ('หวัด', 'NCMN', 'O'),\n",
       " ('นก', 'DDAC', 'O'),\n",
       " (' ', 'NCMN', 'O'),\n",
       " ('อีก', 'DDBQ', 'O'),\n",
       " ('คน', 'NCMN', 'O'),\n",
       " ('ยัง', 'XVBM', 'O'),\n",
       " ('น่า', 'VSTA', 'O'),\n",
       " ('ห่วง', 'NCMN', 'O')]"
      ]
     },
     "execution_count": 2,
     "metadata": {},
     "output_type": "execute_result"
    }
   ],
   "source": [
    "datatofile[1]"
   ]
  },
  {
   "cell_type": "code",
   "execution_count": 3,
   "metadata": {},
   "outputs": [
    {
     "name": "stdout",
     "output_type": "stream",
     "text": [
      "1.0.0\n"
     ]
    }
   ],
   "source": [
    "%matplotlib inline\n",
    "%config InlineBackend.figure_format = 'retina'\n",
    "import matplotlib.pyplot as plt\n",
    "from itertools import chain\n",
    "from sklearn.metrics import classification_report, confusion_matrix\n",
    "from sklearn.preprocessing import LabelBinarizer\n",
    "import sklearn\n",
    "from sklearn.model_selection import cross_validate,train_test_split\n",
    "import torch\n",
    "import torch.nn as nn\n",
    "import torch.nn.functional as F\n",
    "from torch.autograd import Variable\n",
    "from tqdm import tqdm\n",
    "\n",
    "print(torch.__version__)"
   ]
  },
  {
   "cell_type": "code",
   "execution_count": 4,
   "metadata": {},
   "outputs": [],
   "source": [
    "from tqdm import tqdm"
   ]
  },
  {
   "cell_type": "code",
   "execution_count": 5,
   "metadata": {},
   "outputs": [],
   "source": [
    "USE_CUDA = torch.cuda.is_available()\n",
    "\n",
    "FloatTensor = torch.cuda.FloatTensor if USE_CUDA else torch.FloatTensor\n",
    "LongTensor = torch.cuda.LongTensor if USE_CUDA else torch.LongTensor\n",
    "ByteTensor = torch.cuda.ByteTensor if USE_CUDA else torch.ByteTensor"
   ]
  },
  {
   "cell_type": "code",
   "execution_count": 6,
   "metadata": {},
   "outputs": [],
   "source": [
    "word_ner=[]\n",
    "for i in datatofile:\n",
    "    temp=[]\n",
    "    for j in i:\n",
    "        temp.append((j[0],j[2]))\n",
    "    word_ner.append(temp)"
   ]
  },
  {
   "cell_type": "code",
   "execution_count": 7,
   "metadata": {},
   "outputs": [],
   "source": [
    "tagged_sents=word_ner"
   ]
  },
  {
   "cell_type": "code",
   "execution_count": 8,
   "metadata": {},
   "outputs": [],
   "source": [
    "#split data into train set and test set\n",
    "train_size = int(len(tagged_sents) * 0.8)\n",
    "train_sents = tagged_sents[:train_size]\n",
    "test_sents = tagged_sents[train_size:]"
   ]
  },
  {
   "cell_type": "code",
   "execution_count": 9,
   "metadata": {},
   "outputs": [
    {
     "data": {
      "text/plain": [
       "[('http', 'B-URL'),\n",
       " ('://', 'I-URL'),\n",
       " ('www', 'I-URL'),\n",
       " ('.', 'I-URL'),\n",
       " ('bangkokhealth', 'I-URL'),\n",
       " ('.', 'I-URL'),\n",
       " ('com', 'I-URL'),\n",
       " ('/', 'I-URL'),\n",
       " ('healthnews', 'I-URL'),\n",
       " ('_', 'I-URL'),\n",
       " ('htdoc', 'I-URL'),\n",
       " ('/', 'I-URL'),\n",
       " ('healthnews', 'I-URL'),\n",
       " (' ', 'I-URL'),\n",
       " ('_', 'I-URL'),\n",
       " (' ', 'I-URL'),\n",
       " ('detail', 'I-URL'),\n",
       " ('.', 'I-URL'),\n",
       " ('asp', 'I-URL'),\n",
       " ('?', 'I-URL'),\n",
       " ('Number', 'I-URL'),\n",
       " ('=', 'I-URL'),\n",
       " ('10506', 'I-URL')]"
      ]
     },
     "execution_count": 9,
     "metadata": {},
     "output_type": "execute_result"
    }
   ],
   "source": [
    "train_sents[0]"
   ]
  },
  {
   "cell_type": "markdown",
   "metadata": {},
   "source": [
    "## Preparing the Data"
   ]
  },
  {
   "cell_type": "code",
   "execution_count": 10,
   "metadata": {},
   "outputs": [],
   "source": [
    "word_list=[]\n",
    "pos_list=[]\n",
    "\n",
    "for sent in train_sents:\n",
    "    for word in sent:\n",
    "        word_list.append(word[0])\n",
    "        pos_list.append(word[1])\n",
    "\n",
    "\n",
    "#Word to Index\n",
    "word_list.append(\"UNK\") #Special Token for unknown words\n",
    "all_words = sorted(set(word_list))\n",
    "all_pos = sorted(set(pos_list))\n",
    "del word_list, pos_list\n",
    "word_to_ix = dict((c, i) for i, c in enumerate(all_words)) #convert word to index \n",
    "pos_to_ix = dict((c, i) for i, c in enumerate(all_pos)) #convert pos to index"
   ]
  },
  {
   "cell_type": "code",
   "execution_count": 11,
   "metadata": {},
   "outputs": [
    {
     "name": "stdout",
     "output_type": "stream",
     "text": [
      "{'B-DATE': 0, 'B-EMAIL': 1, 'B-LAW': 2, 'B-LEN': 3, 'B-LOCATION': 4, 'B-MONEY': 5, 'B-ORGANIZATION': 6, 'B-PERCENT': 7, 'B-PERSON': 8, 'B-PHONE': 9, 'B-TIME': 10, 'B-URL': 11, 'B-ZIP': 12, 'I-DATE': 13, 'I-EMAIL': 14, 'I-LAW': 15, 'I-LEN': 16, 'I-LOCATION': 17, 'I-MONEY': 18, 'I-ORGANIZATION': 19, 'I-PERCENT': 20, 'I-PERSON': 21, 'I-PHONE': 22, 'I-TIME': 23, 'I-URL': 24, 'O': 25}\n"
     ]
    }
   ],
   "source": [
    "print(pos_to_ix) # NER tags"
   ]
  },
  {
   "cell_type": "code",
   "execution_count": 12,
   "metadata": {},
   "outputs": [],
   "source": [
    "ix_to_word = dict((v,k) for k,v in word_to_ix.items()) #convert index to word\n",
    "ix_to_pos = dict((v,k) for k,v in pos_to_ix.items())  #convert index to word"
   ]
  },
  {
   "cell_type": "markdown",
   "metadata": {},
   "source": [
    "## Preparing the Data for PyTorch"
   ]
  },
  {
   "cell_type": "code",
   "execution_count": 13,
   "metadata": {},
   "outputs": [
    {
     "name": "stdout",
     "output_type": "stream",
     "text": [
      "['http', '://', 'www', '.', 'bangkokhealth', '.', 'com', '/', 'healthnews', '_', 'htdoc', '/', 'healthnews', ' ', '_', ' ', 'detail', '.', 'asp', '?', 'Number', '=', '10506'] \n",
      " ['B-URL', 'I-URL', 'I-URL', 'I-URL', 'I-URL', 'I-URL', 'I-URL', 'I-URL', 'I-URL', 'I-URL', 'I-URL', 'I-URL', 'I-URL', 'I-URL', 'I-URL', 'I-URL', 'I-URL', 'I-URL', 'I-URL', 'I-URL', 'I-URL', 'I-URL', 'I-URL']\n"
     ]
    }
   ],
   "source": [
    "#split each input from its target\n",
    "\n",
    "input_sent =[ [ word[0] for word in sent]for sent in train_sents ] #words only\n",
    "train_targets =[ [ word[1] for word in sent]for sent in train_sents ] #POS only\n",
    "\n",
    "input_test_sent =[ [ word[0] for word in sent]for sent in test_sents ] #words only\n",
    "test_targets =[ [ word[1] for word in sent]for sent in test_sents ] #POS only\n",
    "print(input_sent[0], \"\\n\", train_targets[0])"
   ]
  },
  {
   "cell_type": "code",
   "execution_count": 14,
   "metadata": {},
   "outputs": [],
   "source": [
    "#Functions for converting input/target text sequences to PyTorch-compatible sequences \n",
    "\n",
    "def prepare_sequence_word(input_text):\n",
    "    \"\"\"\n",
    "    Convert an input text sequence for training phrase\n",
    "    \"\"\"\n",
    "    idxs = [word_to_ix[w] for w in input_text]\n",
    "    tensor = LongTensor(idxs)\n",
    "    idxs_feat=list()\n",
    "    for word in input_text:\n",
    "        if word[0].isupper():\n",
    "            idxs_feat.append(1)\n",
    "        else:\n",
    "            idxs_feat.append(0)\n",
    "\n",
    "    tensor_cap_feat = LongTensor(idxs_feat)\n",
    "    return Variable(tensor), tensor_cap_feat\n",
    "\n",
    "def prepare_sequence_word_test(input_text):\n",
    "    \"\"\"\n",
    "    Convert an input text sequence for testing phrase\n",
    "    \"\"\"\n",
    "    idxs = list()\n",
    "    for word in input_text:\n",
    "        if word in word_to_ix:\n",
    "            idxs.append(word_to_ix[word])\n",
    "        else:\n",
    "            idxs.append(word_to_ix[\"UNK\"]) #Use UNK tag for unknown word\n",
    "   \n",
    "    tensor = LongTensor(idxs)\n",
    "    idxs_feat = list()\n",
    "    for word in input_text:\n",
    "        if word[0].isupper():\n",
    "            idxs_feat.append(1)\n",
    "        else:\n",
    "            idxs_feat.append(0)\n",
    "\n",
    "    tensor_cap_feat = LongTensor(idxs_feat)\n",
    "    return Variable(tensor, volatile=True), tensor_cap_feat\n",
    "\n",
    "def prepare_sequence_target_pos(input_label):\n",
    "    \"\"\"\n",
    "    Convert an input target sequence for training phrase\n",
    "    \"\"\"\n",
    "    idxs = [pos_to_ix[w] for w in input_label]\n",
    "    tensor = LongTensor(idxs)\n",
    "    return Variable(tensor)"
   ]
  },
  {
   "cell_type": "code",
   "execution_count": 15,
   "metadata": {},
   "outputs": [
    {
     "name": "stdout",
     "output_type": "stream",
     "text": [
      "(tensor([1671, 1072, 1767,   59, 1630,   59, 1646,   70, 1668, 1620, 1670,   70,\n",
      "        1668,    0, 1620,    0, 1653,   59, 1628, 1076, 1417, 1073,  260],\n",
      "       device='cuda:0'), tensor([0, 0, 0, 0, 0, 0, 0, 0, 0, 0, 0, 0, 0, 0, 0, 0, 0, 0, 0, 0, 1, 0, 0],\n",
      "       device='cuda:0'))\n",
      "['http', '://', 'www', '.', 'bangkokhealth', '.', 'com', '/', 'healthnews', '_', 'htdoc', '/', 'healthnews', ' ', '_', ' ', 'detail', '.', 'asp', '?', 'Number', '=', '10506']\n"
     ]
    }
   ],
   "source": [
    "print(prepare_sequence_word(input_sent[0]))\n",
    "print(input_sent[0])"
   ]
  },
  {
   "cell_type": "code",
   "execution_count": 16,
   "metadata": {},
   "outputs": [],
   "source": [
    "class LSTM(nn.Module):\n",
    "    def __init__(self, input_size, word_emb_dim , hidden_dim, output_size):\n",
    "        super(LSTM, self).__init__()\n",
    "\n",
    "        self.hidden_dim = hidden_dim\n",
    "\n",
    "        self.word_embedding = nn.Embedding(input_size, word_emb_dim)\n",
    "\n",
    "        ################################################################\n",
    "        self.i2ig = nn.Linear(word_emb_dim, hidden_dim) #normal inputgate\n",
    "        self.h2ig = nn.Linear(hidden_dim, hidden_dim) #normal inputgate\n",
    "        \n",
    "        self.i2ig_cap = nn.Linear(word_emb_dim, hidden_dim) #inputgate for capitalized word\n",
    "        self.h2ig_cap = nn.Linear(hidden_dim, hidden_dim) #inputgate for capitalized word\n",
    "        #####################################################################\n",
    "        self.i2ctil = nn.Linear(word_emb_dim, hidden_dim) #c_tilde (new memory cell)\n",
    "        self.h2ctil = nn.Linear(hidden_dim, hidden_dim) #c_tilde (new memory cell)\n",
    "        \n",
    "        self.i2fg = nn.Linear(word_emb_dim, hidden_dim) #forgetgate\n",
    "        self.h2fg = nn.Linear(hidden_dim, hidden_dim) #forgetgate\n",
    "        \n",
    "        self.i2og = nn.Linear(word_emb_dim, hidden_dim) #outputgate\n",
    "        self.h2og = nn.Linear(hidden_dim, hidden_dim) #outputgate\n",
    "        \n",
    "        self.hidden2tag = nn.Linear(hidden_dim, output_size) #output\n",
    "        self.softmax = nn.LogSoftmax()\n",
    "        \n",
    "        \n",
    "    def _inputGate(self, word_embed, hidden):\n",
    "        \"\"\"\n",
    "        input gate: how much the current input matters according to the past hidden state \n",
    "        and the current input\n",
    "        \"\"\"\n",
    "        i_t = F.sigmoid(self.i2ig(word_embed)+self.h2ig(hidden))\n",
    "        return i_t\n",
    "    \n",
    "    def _inputGateCap(self, word_embed, hidden):\n",
    "        \"\"\"\n",
    "        input gate for a capitalized word\n",
    "        \"\"\"\n",
    "        i_t = F.sigmoid(self.i2ig_cap(word_embed)+self.h2ig_cap(hidden))\n",
    "        return i_t\n",
    "                        \n",
    "    def _newMemoryCell(self, word_embed, hidden):\n",
    "        \"\"\"\n",
    "        New memory cell: how much the current input will be remembered according to the past hidden state \n",
    "        and the current input \n",
    "        \"\"\"\n",
    "        c_tilda = F.tanh(self.i2ctil(word_embed)+self.h2ctil(hidden)) #new memory cell\n",
    "        return c_tilda\n",
    "    \n",
    "    def _forgetGate(self, word_embed, hidden):\n",
    "        \"\"\"\n",
    "        Forget gate: how much the past memory cell matters according to the past hidden state \n",
    "        and the current input\n",
    "        \"\"\"\n",
    "        f_t = F.sigmoid(self.i2fg(word_embed)+self.h2fg(hidden))#forget gate\n",
    "        return f_t\n",
    "    \n",
    "    def _cellState(self,c_prev,c_tilda,f_t,i_t):\n",
    "        \"\"\"\n",
    "        Final memory cell: Decide how much the past memory cell will be forgotten according to the forget gate\n",
    "        and decide how much the new memory cell matters according to the input gate. \n",
    "        Then it sums both decisions to generate the final memory cell (c_t)\n",
    "        \"\"\"\n",
    "        c_t = (f_t * c_prev) + (i_t * c_tilda) \n",
    "        return c_t\n",
    "    \n",
    "    def _outputGate(self, word_embed, hidden, c_t):\n",
    "        \n",
    "        \"\"\"\n",
    "        Output gate: calculate the final hidden state according to the current input, the past hidden state\n",
    "        , and the final memory cell\n",
    "        \"\"\"\n",
    "        o_t =   F.sigmoid(self.i2og(word_embed)+self.h2og(hidden))\n",
    "        h_t  =  o_t * F.tanh(c_t)\n",
    "        return h_t \n",
    "\n",
    "    def forward(self, input_word, hidden, c_prev,feat):\n",
    "   \n",
    "        word_embed = self.word_embedding(input_word)\n",
    "        f_t = self._forgetGate(word_embed, hidden)\n",
    "        \n",
    "        \n",
    "        if feat==0:\n",
    "            i_t = self._inputGate(word_embed, hidden)\n",
    "        elif feat==1:\n",
    "            i_t = self._inputGateCap(word_embed, hidden)\n",
    "            \n",
    "        c_tilde = self._newMemoryCell(word_embed, hidden)\n",
    "        c_t = self._cellState(c_prev, c_tilde, f_t, i_t)#final memory cell\n",
    "        h_t = self._outputGate(word_embed, hidden,c_t)#final hidden state\n",
    "        lstm_out = self.hidden2tag(h_t)\n",
    "        output = self.softmax(lstm_out)\n",
    "        return output, h_t, c_t\n",
    "\n",
    "    def initHidden(self):\n",
    "        init_zeros = torch.zeros(1, self.hidden_dim).cuda() if USE_CUDA else torch.zeros(1, self.hidden_dim)\n",
    "        return Variable(init_zeros)\n",
    "    \n",
    "    def initCellState(self):\n",
    "        init_zeros = torch.zeros(1, self.hidden_dim).cuda() if USE_CUDA else torch.zeros(1, self.hidden_dim)\n",
    "        return Variable(init_zeros)\n",
    "#Initialization    \n",
    "n_words = len(word_to_ix) #number of unique words\n",
    "n_hidden = 128 # number of hidden dimensions\n",
    "n_emb_dim = 64 # number of word vector dimension\n",
    "n_categories = len(pos_to_ix) # number of POS categories\n",
    "lstm = LSTM(n_words, n_emb_dim, n_hidden, n_categories) #initilize the model\n",
    "if USE_CUDA:\n",
    "    lstm = lstm.cuda()"
   ]
  },
  {
   "cell_type": "code",
   "execution_count": 17,
   "metadata": {},
   "outputs": [],
   "source": [
    "criterion = nn.NLLLoss() #Last layer is nn.LogSoftMax, therefore NLLLoss is suitable\n",
    "learning_rate = 0.001\n",
    "optimizer = torch.optim.Adam(lstm.parameters(), lr=learning_rate) #ADAM OPTIMIZER\n",
    "\n",
    "def train(category_tensor, sentence_tensor,feat_tensor,train=True):\n",
    "    if train:\n",
    "        lstm.train(True)\n",
    "    else:\n",
    "        lstm.eval()\n",
    "    hidden = lstm.initHidden() #initialize hidden state\n",
    "    cell_state = lstm.initCellState() #initiailze cell state\n",
    "    lstm.zero_grad()# reset gradient to zero\n",
    "\n",
    "    for i in range(sentence_tensor.size()[0]): # for each word in a sentence\n",
    "        output, hidden, cell_state = lstm(sentence_tensor[i], hidden,cell_state,feat_tensor[i])#fwd\n",
    "        if i != 0:\n",
    "            all_outputs=torch.cat((all_outputs,output),0) #concat output vectors together to calculate loss in one go\n",
    "        else:\n",
    "            all_outputs=output\n",
    "\n",
    "    loss = criterion(all_outputs, category_tensor)# calculate loss\n",
    "    if train:\n",
    "        loss.backward()#backprop\n",
    "        optimizer.step()#update parameters\n",
    "    return all_outputs, loss.item()"
   ]
  },
  {
   "cell_type": "code",
   "execution_count": 18,
   "metadata": {},
   "outputs": [
    {
     "name": "stderr",
     "output_type": "stream",
     "text": [
      "  0%|          | 0/4918 [00:00<?, ?it/s]/home/wannaphong/anaconda3/lib/python3.6/site-packages/torch/nn/functional.py:1332: UserWarning: nn.functional.sigmoid is deprecated. Use torch.sigmoid instead.\n",
      "  warnings.warn(\"nn.functional.sigmoid is deprecated. Use torch.sigmoid instead.\")\n",
      "/home/wannaphong/anaconda3/lib/python3.6/site-packages/torch/nn/functional.py:1320: UserWarning: nn.functional.tanh is deprecated. Use torch.tanh instead.\n",
      "  warnings.warn(\"nn.functional.tanh is deprecated. Use torch.tanh instead.\")\n",
      "/home/wannaphong/anaconda3/lib/python3.6/site-packages/ipykernel_launcher.py:94: UserWarning: Implicit dimension choice for log_softmax has been deprecated. Change the call to include dim=X as an argument.\n",
      "100%|██████████| 4918/4918 [05:46<00:00, 14.21it/s]\n",
      "100%|██████████| 4918/4918 [02:40<00:00, 30.67it/s] \n",
      "  0%|          | 3/4918 [00:00<03:23, 24.10it/s]"
     ]
    },
    {
     "name": "stdout",
     "output_type": "stream",
     "text": [
      "ep 1 5% (8m 26s) loss 0.7908 \n",
      "val loss 0.6936 \n"
     ]
    },
    {
     "name": "stderr",
     "output_type": "stream",
     "text": [
      "100%|██████████| 4918/4918 [05:46<00:00, 14.20it/s]\n",
      "100%|██████████| 4918/4918 [02:36<00:00, 31.36it/s] \n",
      "  0%|          | 3/4918 [00:00<03:21, 24.37it/s]"
     ]
    },
    {
     "name": "stdout",
     "output_type": "stream",
     "text": [
      "ep 2 10% (16m 49s) loss 0.2332 \n",
      "val loss 0.1349 \n"
     ]
    },
    {
     "name": "stderr",
     "output_type": "stream",
     "text": [
      "100%|██████████| 4918/4918 [05:48<00:00, 14.12it/s]\n",
      "100%|██████████| 4918/4918 [02:36<00:00, 31.51it/s] \n",
      "  0%|          | 3/4918 [00:00<03:35, 22.85it/s]"
     ]
    },
    {
     "name": "stdout",
     "output_type": "stream",
     "text": [
      "ep 3 15% (25m 14s) loss 0.2900 \n",
      "val loss 0.1648 \n"
     ]
    },
    {
     "name": "stderr",
     "output_type": "stream",
     "text": [
      "100%|██████████| 4918/4918 [05:43<00:00, 14.30it/s]\n",
      "100%|██████████| 4918/4918 [02:36<00:00, 31.45it/s] \n",
      "  0%|          | 3/4918 [00:00<03:30, 23.30it/s]"
     ]
    },
    {
     "name": "stdout",
     "output_type": "stream",
     "text": [
      "ep 4 20% (33m 34s) loss 0.0146 \n",
      "val loss 0.0134 \n"
     ]
    },
    {
     "name": "stderr",
     "output_type": "stream",
     "text": [
      "100%|██████████| 4918/4918 [05:43<00:00, 14.32it/s]\n",
      "100%|██████████| 4918/4918 [02:35<00:00, 31.55it/s] \n",
      "  0%|          | 3/4918 [00:00<03:30, 23.36it/s]"
     ]
    },
    {
     "name": "stdout",
     "output_type": "stream",
     "text": [
      "ep 5 25% (41m 53s) loss 0.0181 \n",
      "val loss 0.0136 \n"
     ]
    },
    {
     "name": "stderr",
     "output_type": "stream",
     "text": [
      "100%|██████████| 4918/4918 [05:43<00:00, 14.33it/s]\n",
      "100%|██████████| 4918/4918 [02:35<00:00, 31.54it/s] \n",
      "  0%|          | 3/4918 [00:00<03:28, 23.54it/s]"
     ]
    },
    {
     "name": "stdout",
     "output_type": "stream",
     "text": [
      "ep 6 30% (50m 12s) loss 0.0484 \n",
      "val loss 0.0036 \n"
     ]
    },
    {
     "name": "stderr",
     "output_type": "stream",
     "text": [
      "100%|██████████| 4918/4918 [05:43<00:00, 14.34it/s]\n",
      "100%|██████████| 4918/4918 [02:35<00:00, 31.54it/s] \n",
      "  0%|          | 3/4918 [00:00<03:30, 23.33it/s]"
     ]
    },
    {
     "name": "stdout",
     "output_type": "stream",
     "text": [
      "ep 7 35% (58m 31s) loss 0.3861 \n",
      "val loss 0.0322 \n"
     ]
    },
    {
     "name": "stderr",
     "output_type": "stream",
     "text": [
      "100%|██████████| 4918/4918 [05:43<00:00, 14.33it/s]\n",
      "100%|██████████| 4918/4918 [02:35<00:00, 31.53it/s] \n",
      "  0%|          | 3/4918 [00:00<03:26, 23.83it/s]"
     ]
    },
    {
     "name": "stdout",
     "output_type": "stream",
     "text": [
      "ep 8 40% (66m 50s) loss 0.0004 \n",
      "val loss 0.0004 \n"
     ]
    },
    {
     "name": "stderr",
     "output_type": "stream",
     "text": [
      "100%|██████████| 4918/4918 [05:43<00:00, 14.32it/s]\n",
      "100%|██████████| 4918/4918 [02:36<00:00, 31.51it/s] \n",
      "  0%|          | 3/4918 [00:00<03:24, 24.03it/s]"
     ]
    },
    {
     "name": "stdout",
     "output_type": "stream",
     "text": [
      "ep 9 45% (75m 10s) loss 0.0005 \n",
      "val loss 0.0005 \n"
     ]
    },
    {
     "name": "stderr",
     "output_type": "stream",
     "text": [
      "100%|██████████| 4918/4918 [05:43<00:00, 14.33it/s]\n",
      "100%|██████████| 4918/4918 [02:36<00:00, 31.48it/s] \n",
      "  0%|          | 3/4918 [00:00<03:23, 24.13it/s]"
     ]
    },
    {
     "name": "stdout",
     "output_type": "stream",
     "text": [
      "ep 10 50% (83m 29s) loss 0.0009 \n",
      "val loss 0.0008 \n"
     ]
    },
    {
     "name": "stderr",
     "output_type": "stream",
     "text": [
      "100%|██████████| 4918/4918 [05:43<00:00, 14.33it/s]\n",
      "100%|██████████| 4918/4918 [02:35<00:00, 31.55it/s] \n",
      "  0%|          | 3/4918 [00:00<03:41, 22.19it/s]"
     ]
    },
    {
     "name": "stdout",
     "output_type": "stream",
     "text": [
      "ep 11 55% (91m 48s) loss 0.0003 \n",
      "val loss 0.0003 \n"
     ]
    },
    {
     "name": "stderr",
     "output_type": "stream",
     "text": [
      "100%|██████████| 4918/4918 [05:43<00:00, 14.33it/s]\n",
      "100%|██████████| 4918/4918 [02:35<00:00, 31.56it/s] \n",
      "  0%|          | 3/4918 [00:00<03:30, 23.33it/s]"
     ]
    },
    {
     "name": "stdout",
     "output_type": "stream",
     "text": [
      "ep 12 60% (100m 7s) loss 0.0004 \n",
      "val loss 0.0004 \n"
     ]
    },
    {
     "name": "stderr",
     "output_type": "stream",
     "text": [
      "100%|██████████| 4918/4918 [05:43<00:00, 14.33it/s]\n",
      "100%|██████████| 4918/4918 [02:35<00:00, 31.58it/s] \n",
      "  0%|          | 3/4918 [00:00<03:33, 23.04it/s]"
     ]
    },
    {
     "name": "stdout",
     "output_type": "stream",
     "text": [
      "ep 13 65% (108m 26s) loss 0.0008 \n",
      "val loss 0.0007 \n"
     ]
    },
    {
     "name": "stderr",
     "output_type": "stream",
     "text": [
      "100%|██████████| 4918/4918 [05:43<00:00, 14.32it/s]\n",
      "100%|██████████| 4918/4918 [02:35<00:00, 31.54it/s] \n",
      "  0%|          | 3/4918 [00:00<03:36, 22.71it/s]"
     ]
    },
    {
     "name": "stdout",
     "output_type": "stream",
     "text": [
      "ep 14 70% (116m 46s) loss 0.0003 \n",
      "val loss 0.0003 \n"
     ]
    },
    {
     "name": "stderr",
     "output_type": "stream",
     "text": [
      "100%|██████████| 4918/4918 [05:43<00:00, 14.32it/s]\n",
      "100%|██████████| 4918/4918 [02:36<00:00, 31.50it/s] \n",
      "  0%|          | 3/4918 [00:00<03:32, 23.08it/s]"
     ]
    },
    {
     "name": "stdout",
     "output_type": "stream",
     "text": [
      "ep 15 75% (125m 5s) loss 0.0012 \n",
      "val loss 0.0009 \n"
     ]
    },
    {
     "name": "stderr",
     "output_type": "stream",
     "text": [
      "100%|██████████| 4918/4918 [05:43<00:00, 14.32it/s]\n",
      "100%|██████████| 4918/4918 [02:36<00:00, 31.52it/s]\n",
      "  0%|          | 3/4918 [00:00<03:19, 24.60it/s]"
     ]
    },
    {
     "name": "stdout",
     "output_type": "stream",
     "text": [
      "ep 16 80% (133m 25s) loss 0.0003 \n",
      "val loss 0.0003 \n"
     ]
    },
    {
     "name": "stderr",
     "output_type": "stream",
     "text": [
      "100%|██████████| 4918/4918 [05:43<00:00, 14.33it/s]\n",
      "100%|██████████| 4918/4918 [02:36<00:00, 31.49it/s] \n",
      "  0%|          | 3/4918 [00:00<03:20, 24.55it/s]"
     ]
    },
    {
     "name": "stdout",
     "output_type": "stream",
     "text": [
      "ep 17 85% (141m 44s) loss 0.0002 \n",
      "val loss 0.0002 \n"
     ]
    },
    {
     "name": "stderr",
     "output_type": "stream",
     "text": [
      "100%|██████████| 4918/4918 [05:43<00:00, 14.33it/s]\n",
      "100%|██████████| 4918/4918 [02:36<00:00, 31.48it/s] \n",
      "  0%|          | 3/4918 [00:00<03:26, 23.75it/s]"
     ]
    },
    {
     "name": "stdout",
     "output_type": "stream",
     "text": [
      "ep 18 90% (150m 4s) loss 0.0003 \n",
      "val loss 0.0003 \n"
     ]
    },
    {
     "name": "stderr",
     "output_type": "stream",
     "text": [
      "100%|██████████| 4918/4918 [05:43<00:00, 14.33it/s]\n",
      "100%|██████████| 4918/4918 [02:35<00:00, 31.53it/s] \n",
      "  0%|          | 3/4918 [00:00<03:25, 23.92it/s]"
     ]
    },
    {
     "name": "stdout",
     "output_type": "stream",
     "text": [
      "ep 19 95% (158m 23s) loss 0.0001 \n",
      "val loss 0.0001 \n"
     ]
    },
    {
     "name": "stderr",
     "output_type": "stream",
     "text": [
      "100%|██████████| 4918/4918 [05:43<00:00, 14.33it/s]\n",
      "100%|██████████| 4918/4918 [02:36<00:00, 31.52it/s] "
     ]
    },
    {
     "name": "stdout",
     "output_type": "stream",
     "text": [
      "ep 20 100% (166m 42s) loss 0.0001 \n",
      "val loss 0.0001 \n"
     ]
    },
    {
     "name": "stderr",
     "output_type": "stream",
     "text": [
      "\n"
     ]
    }
   ],
   "source": [
    "import time\n",
    "import math\n",
    "\n",
    "n_iters = 20\n",
    "print_every = 1\n",
    "\n",
    "def timeSince(since):\n",
    "    now = time.time()\n",
    "    s = now - since\n",
    "    m = math.floor(s / 60)\n",
    "    s -= m * 60\n",
    "    return '%dm %ds' % (m, s)\n",
    "\n",
    "start = time.time()\n",
    "train_losses=[]\n",
    "val_losses=[]\n",
    "for iter in range(1, n_iters + 1):#Epoch\n",
    "    loader = tqdm(zip(input_sent,train_targets), total=len(input_sent))\n",
    "    for sentence, pos_tags in loader: #Sentence\n",
    "        sentence_tensor, feat_tensor = prepare_sequence_word(sentence) #preprocess input\n",
    "        category_tensor = prepare_sequence_target_pos(pos_tags) #preprocess tags\n",
    "        output, loss = train(category_tensor, sentence_tensor, feat_tensor) #fwd\n",
    "    loader = tqdm(zip(input_sent,train_targets), total=len(input_sent))\n",
    "    for sentence, pos_tags in loader: #Sentence\n",
    "        sentence_tensor, feat_tensor = prepare_sequence_word(sentence) #preprocess input\n",
    "        category_tensor = prepare_sequence_target_pos(pos_tags) #preprocess tags\n",
    "        output, val_loss = train(category_tensor, sentence_tensor, feat_tensor,train=False) #fwd\n",
    "    # Print iter number,time, loss\n",
    "    if iter % print_every == 0:\n",
    "        print('ep %d %d%% (%s) loss %.4f ' % (iter, iter / n_iters * 100, timeSince(start), loss))\n",
    "        print('val loss %.4f ' % (val_loss))\n",
    "        train_losses.append(loss)\n",
    "        val_losses.append(val_loss)\n",
    "        torch.save(lstm.state_dict(), \"ner-lstm.pt.ep\"+str(iter))"
   ]
  },
  {
   "cell_type": "code",
   "execution_count": 19,
   "metadata": {},
   "outputs": [
    {
     "data": {
      "image/png": "[encoded data removed]",
      "text/plain": [
       "<Figure size 432x288 with 1 Axes>"
      ]
     },
     "metadata": {
      "image/png": {
       "height": 250,
       "width": 373
      },
      "needs_background": "light"
     },
     "output_type": "display_data"
    }
   ],
   "source": [
    "plt.plot(train_losses, label='Training loss')\n",
    "plt.plot(val_losses, label='Validation loss')\n",
    "plt.legend(frameon=False)\n",
    "plt.show()"
   ]
  },
  {
   "cell_type": "code",
   "execution_count": 20,
   "metadata": {},
   "outputs": [],
   "source": [
    "def predict(input_sent):\n",
    "    y_pred=[]\n",
    "    lstm.train(False)\n",
    "    hidden = lstm.initHidden()\n",
    "    cell_state = lstm.initCellState()\n",
    "    sentence_tensor, feat_tensor = prepare_sequence_word_test(input_sent)\n",
    "    for i in range(sentence_tensor.size()[0]):\n",
    "        output, hidden, cell_state = lstm(sentence_tensor[i], hidden,cell_state,feat_tensor[i] )\n",
    "        output=output[0].data.tolist()\n",
    "        out_ix=output.index(max(output))\n",
    "        y_pred.append(ix_to_pos[out_ix])\n",
    "    \n",
    "    return y_pred"
   ]
  },
  {
   "cell_type": "code",
   "execution_count": 23,
   "metadata": {},
   "outputs": [
    {
     "name": "stdout",
     "output_type": "stream",
     "text": [
      "['O', 'O', 'O', 'O', 'O', 'O', 'O', 'O', 'O', 'O', 'O', 'O', 'O', 'O', 'O', 'O', 'O', 'O', 'O', 'O', 'O', 'O', 'O', 'O', 'O', 'O', 'O', 'O', 'O', 'O', 'O', 'O', 'O', 'O', 'O', 'O', 'O', 'O', 'O', 'B-PERSON', 'O', 'O', 'O', 'O', 'O', 'O', 'O', 'O', 'O', 'O', 'O', 'O', 'O', 'O', 'I-LOCATION', 'I-ORGANIZATION', 'O', 'B-ORGANIZATION', 'I-ORGANIZATION', 'I-ORGANIZATION', 'I-ORGANIZATION', 'I-ORGANIZATION', 'O', 'O', 'O', 'O', 'O', 'O', 'O', 'O', 'B-ORGANIZATION', 'O', 'O', 'O', 'O', 'B-DATE', 'I-DATE', 'I-DATE', 'O']\n",
      "['“', 'ระบบ', 'โซ', 'ตัส', 'ที่', 'ใหญ่', 'ที่สุด', ' ', 'ไม่ใช่', 'อยู่', 'ใน', 'มหาวิทยาลัย', ' ', 'ทหาร', ' ', 'เอา', 'ที่จริง', 'มีระบบ', 'ใหญ่', 'กว่า', 'นั้น', 'แต่', 'อำนาจ', 'ไม่', 'แรง', ' ', 'ระบบ', 'ราชการ', 'ทั้งหมด', 'เลย', ' ', 'โซ', 'ตัส', 'ใน', 'มหาวิทยาลัย', 'มัน', 'กระจอก', '”', ' ', 'ศาสตราจารย์', 'กิตติคุณ', 'ธงชัย', 'กล่าว', 'ใน', 'งาน', 'เสวนา', 'บันทึก', 'ข้อมูล', 'เพื่อ', 'ทวง', 'ความยุติธรรม', 'จัด', 'โดย', 'สโมสร', 'นิสิต', 'คณะรัฐศาสตร์', ' ', 'จุฬา', 'ลง', 'กร', 'ณ์', 'มหาวิทยาลัย', ' ', 'ร่วมกับ', 'โครงการ', 'บันทึก', ' ', '6', ' ', 'ตุ', 'ลา', ' ', 'ใน', 'วันที่', ' ', '24', ' ', 'กันยายน', 'ที่ผ่านมา']\n"
     ]
    },
    {
     "name": "stderr",
     "output_type": "stream",
     "text": [
      "/home/wannaphong/anaconda3/lib/python3.6/site-packages/ipykernel_launcher.py:39: UserWarning: volatile was removed and now has no effect. Use `with torch.no_grad():` instead.\n",
      "/home/wannaphong/anaconda3/lib/python3.6/site-packages/ipykernel_launcher.py:94: UserWarning: Implicit dimension choice for log_softmax has been deprecated. Change the call to include dim=X as an argument.\n"
     ]
    }
   ],
   "source": [
    "print(predict(input_test_sent[1]))\n",
    "print(input_test_sent[1])"
   ]
  },
  {
   "cell_type": "code",
   "execution_count": 24,
   "metadata": {},
   "outputs": [
    {
     "data": {
      "text/plain": [
       "[('“', 'O'),\n",
       " ('ระบบ', 'O'),\n",
       " ('โซ', 'O'),\n",
       " ('ตัส', 'O'),\n",
       " ('ที่', 'O'),\n",
       " ('ใหญ่', 'O'),\n",
       " ('ที่สุด', 'O'),\n",
       " (' ', 'O'),\n",
       " ('ไม่ใช่', 'O'),\n",
       " ('อยู่', 'O'),\n",
       " ('ใน', 'O'),\n",
       " ('มหาวิทยาลัย', 'O'),\n",
       " (' ', 'O'),\n",
       " ('ทหาร', 'O'),\n",
       " (' ', 'O'),\n",
       " ('เอา', 'O'),\n",
       " ('ที่จริง', 'O'),\n",
       " ('มีระบบ', 'O'),\n",
       " ('ใหญ่', 'O'),\n",
       " ('กว่า', 'O'),\n",
       " ('นั้น', 'O'),\n",
       " ('แต่', 'O'),\n",
       " ('อำนาจ', 'O'),\n",
       " ('ไม่', 'O'),\n",
       " ('แรง', 'O'),\n",
       " (' ', 'O'),\n",
       " ('ระบบ', 'O'),\n",
       " ('ราชการ', 'O'),\n",
       " ('ทั้งหมด', 'O'),\n",
       " ('เลย', 'O'),\n",
       " (' ', 'O'),\n",
       " ('โซ', 'O'),\n",
       " ('ตัส', 'O'),\n",
       " ('ใน', 'O'),\n",
       " ('มหาวิทยาลัย', 'O'),\n",
       " ('มัน', 'O'),\n",
       " ('กระจอก', 'O'),\n",
       " ('”', 'O'),\n",
       " (' ', 'O'),\n",
       " ('ศาสตราจารย์', 'B-PERSON'),\n",
       " ('กิตติคุณ', 'I-PERSON'),\n",
       " ('ธงชัย', 'I-PERSON'),\n",
       " ('กล่าว', 'O'),\n",
       " ('ใน', 'O'),\n",
       " ('งาน', 'O'),\n",
       " ('เสวนา', 'O'),\n",
       " ('บันทึก', 'O'),\n",
       " ('ข้อมูล', 'O'),\n",
       " ('เพื่อ', 'O'),\n",
       " ('ทวง', 'O'),\n",
       " ('ความยุติธรรม', 'O'),\n",
       " ('จัด', 'O'),\n",
       " ('โดย', 'O'),\n",
       " ('สโมสร', 'B-ORGANIZATION'),\n",
       " ('นิสิต', 'I-ORGANIZATION'),\n",
       " ('คณะรัฐศาสตร์', 'I-ORGANIZATION'),\n",
       " (' ', 'O'),\n",
       " ('จุฬา', 'B-ORGANIZATION'),\n",
       " ('ลง', 'I-ORGANIZATION'),\n",
       " ('กร', 'I-ORGANIZATION'),\n",
       " ('ณ์', 'I-ORGANIZATION'),\n",
       " ('มหาวิทยาลัย', 'I-ORGANIZATION'),\n",
       " (' ', 'O'),\n",
       " ('ร่วมกับ', 'O'),\n",
       " ('โครงการ', 'O'),\n",
       " ('บันทึก', 'O'),\n",
       " (' ', 'O'),\n",
       " ('6', 'B-DATE'),\n",
       " (' ', 'I-DATE'),\n",
       " ('ตุ', 'I-DATE'),\n",
       " ('ลา', 'I-DATE'),\n",
       " (' ', 'O'),\n",
       " ('ใน', 'O'),\n",
       " ('วันที่', 'O'),\n",
       " (' ', 'O'),\n",
       " ('24', 'B-DATE'),\n",
       " (' ', 'I-DATE'),\n",
       " ('กันยายน', 'I-DATE'),\n",
       " ('ที่ผ่านมา', 'O')]"
      ]
     },
     "execution_count": 24,
     "metadata": {},
     "output_type": "execute_result"
    }
   ],
   "source": [
    "test_sents[1]"
   ]
  },
  {
   "cell_type": "code",
   "execution_count": 25,
   "metadata": {},
   "outputs": [
    {
     "name": "stderr",
     "output_type": "stream",
     "text": [
      "/home/wannaphong/anaconda3/lib/python3.6/site-packages/ipykernel_launcher.py:39: UserWarning: volatile was removed and now has no effect. Use `with torch.no_grad():` instead.\n",
      "/home/wannaphong/anaconda3/lib/python3.6/site-packages/ipykernel_launcher.py:94: UserWarning: Implicit dimension choice for log_softmax has been deprecated. Change the call to include dim=X as an argument.\n"
     ]
    }
   ],
   "source": [
    "#predict POS tags for all sentences in the testset\n",
    "y_pred = []\n",
    "\n",
    "for test_sent in input_test_sent:\n",
    "    temp_pred = predict(test_sent)\n",
    "    y_pred.append(temp_pred)"
   ]
  },
  {
   "cell_type": "code",
   "execution_count": 37,
   "metadata": {},
   "outputs": [],
   "source": [
    "def pos_classification_report(y_true, y_pred):\n",
    " \n",
    "    lb = LabelBinarizer()\n",
    "    y_true_combined = lb.fit_transform(list(chain.from_iterable(y_true)))\n",
    "    y_pred_combined = lb.transform(list(chain.from_iterable(y_pred)))\n",
    "    tagset = list(sorted(set(lb.classes_)))\n",
    "    print(tagset)\n",
    "    class_indices = {cls: idx for idx, cls in enumerate(lb.classes_)}\n",
    "    \n",
    "    return classification_report(\n",
    "        y_true_combined,\n",
    "        y_pred_combined,\n",
    "        labels = [class_indices[cls] for cls in tagset if cls!=\"O\"],\n",
    "        target_names = tagset,\n",
    "        digits=4\n",
    "    )"
   ]
  },
  {
   "cell_type": "code",
   "execution_count": 38,
   "metadata": {},
   "outputs": [
    {
     "name": "stdout",
     "output_type": "stream",
     "text": [
      "['B-DATE', 'B-LAW', 'B-LEN', 'B-LOCATION', 'B-MONEY', 'B-ORGANIZATION', 'B-PERCENT', 'B-PERSON', 'B-PHONE', 'B-TIME', 'B-URL', 'I-DATE', 'I-LAW', 'I-LEN', 'I-LOCATION', 'I-MONEY', 'I-ORGANIZATION', 'I-PERCENT', 'I-PERSON', 'I-PHONE', 'I-TIME', 'I-URL', 'O']\n",
      "                precision    recall  f1-score   support\n",
      "\n",
      "        B-DATE     0.8329    0.7429    0.7853       389\n",
      "         B-LAW     0.7692    0.5000    0.6061        80\n",
      "         B-LEN     0.1250    0.1818    0.1481        11\n",
      "    B-LOCATION     0.7391    0.6847    0.7108       666\n",
      "       B-MONEY     0.5565    0.5111    0.5328       135\n",
      "B-ORGANIZATION     0.7038    0.7311    0.7172      1365\n",
      "     B-PERCENT     0.4444    0.2105    0.2857        19\n",
      "      B-PERSON     0.8746    0.7630    0.8150       713\n",
      "       B-PHONE     0.3750    0.6000    0.4615         5\n",
      "        B-TIME     0.4878    0.4211    0.4520        95\n",
      "         B-URL     0.8000    0.9231    0.8571        13\n",
      "        I-DATE     0.8627    0.7516    0.8034       761\n",
      "         I-LAW     0.8621    0.3759    0.5236       266\n",
      "         I-LEN     0.4074    0.4583    0.4314        24\n",
      "    I-LOCATION     0.7873    0.5514    0.6485       584\n",
      "       I-MONEY     0.8310    0.7216    0.7724       334\n",
      "I-ORGANIZATION     0.7116    0.6886    0.6999      1426\n",
      "     I-PERCENT     1.0000    0.8000    0.8889        25\n",
      "      I-PERSON     0.8912    0.8151    0.8515      2574\n",
      "       I-PHONE     0.3333    0.1429    0.2000        14\n",
      "        I-TIME     0.6984    0.5176    0.5946       170\n",
      "         I-URL     0.9291    0.9833    0.9555       120\n",
      "\n",
      "     micro avg     0.7942    0.7162    0.7532      9789\n",
      "     macro avg     0.6828    0.5944    0.6246      9789\n",
      "  weighted avg     0.7976    0.7162    0.7510      9789\n",
      "   samples avg     0.1464    0.1464    0.1464      9789\n",
      "\n"
     ]
    },
    {
     "name": "stderr",
     "output_type": "stream",
     "text": [
      "/home/wannaphong/anaconda3/lib/python3.6/site-packages/sklearn/metrics/classification.py:1537: UserWarning: labels size, 22, does not match size of target_names, 23\n",
      "  .format(len(labels), len(target_names))\n",
      "/home/wannaphong/anaconda3/lib/python3.6/site-packages/sklearn/metrics/classification.py:1143: UndefinedMetricWarning: Precision and F-score are ill-defined and being set to 0.0 in samples with no predicted labels.\n",
      "  'precision', 'predicted', average, warn_for)\n",
      "/home/wannaphong/anaconda3/lib/python3.6/site-packages/sklearn/metrics/classification.py:1145: UndefinedMetricWarning: Recall and F-score are ill-defined and being set to 0.0 in samples with no true labels.\n",
      "  'recall', 'true', average, warn_for)\n"
     ]
    }
   ],
   "source": [
    "print(pos_classification_report(test_targets,y_pred))"
   ]
  },
  {
   "cell_type": "code",
   "execution_count": 39,
   "metadata": {},
   "outputs": [
    {
     "name": "stderr",
     "output_type": "stream",
     "text": [
      "/home/wannaphong/anaconda3/lib/python3.6/site-packages/ipykernel_launcher.py:39: UserWarning: volatile was removed and now has no effect. Use `with torch.no_grad():` instead.\n",
      "/home/wannaphong/anaconda3/lib/python3.6/site-packages/ipykernel_launcher.py:94: UserWarning: Implicit dimension choice for log_softmax has been deprecated. Change the call to include dim=X as an argument.\n"
     ]
    },
    {
     "data": {
      "text/plain": [
       "['O',\n",
       " 'O',\n",
       " 'B-PERSON',\n",
       " 'I-PERSON',\n",
       " 'I-PERSON',\n",
       " 'I-PERSON',\n",
       " 'I-PERSON',\n",
       " 'I-PERSON']"
      ]
     },
     "execution_count": 39,
     "metadata": {},
     "output_type": "execute_result"
    }
   ],
   "source": [
    "predict([\"ผม\",\"ชื่อ\",\"นาย\",\"บุญ\",\"มาก\",\" \",\"ทอง\",\"ดี\"])"
   ]
  },
  {
   "cell_type": "code",
   "execution_count": 40,
   "metadata": {},
   "outputs": [
    {
     "data": {
      "text/plain": [
       "12739"
      ]
     },
     "execution_count": 40,
     "metadata": {},
     "output_type": "execute_result"
    }
   ],
   "source": [
    "len(word_to_ix)"
   ]
  },
  {
   "cell_type": "code",
   "execution_count": 41,
   "metadata": {},
   "outputs": [],
   "source": [
    "import dill\n",
    "with open('word_to_ix.pkl', 'wb') as file:\n",
    "    dill.dump(word_to_ix, file)"
   ]
  },
  {
   "cell_type": "code",
   "execution_count": 42,
   "metadata": {},
   "outputs": [],
   "source": [
    "with open('pos_to_ix.pkl', 'wb') as file:\n",
    "    dill.dump(pos_to_ix, file)"
   ]
  },
  {
   "cell_type": "code",
   "execution_count": null,
   "metadata": {},
   "outputs": [],
   "source": []
  }
 ],
 "metadata": {
  "kernelspec": {
   "display_name": "Python 3",
   "language": "python",
   "name": "python3"
  },
  "language_info": {
   "codemirror_mode": {
    "name": "ipython",
    "version": 3
   },
   "file_extension": ".py",
   "mimetype": "text/x-python",
   "name": "python",
   "nbconvert_exporter": "python",
   "pygments_lexer": "ipython3",
   "version": "3.6.7"
  }
 },
 "nbformat": 4,
 "nbformat_minor": 2
}
